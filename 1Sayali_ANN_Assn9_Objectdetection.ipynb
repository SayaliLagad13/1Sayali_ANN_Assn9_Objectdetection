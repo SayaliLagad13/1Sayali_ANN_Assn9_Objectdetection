{
 "cells": [
  {
   "cell_type": "code",
   "execution_count": 1,
   "metadata": {
    "id": "1OZ9flofYJPD"
   },
   "outputs": [],
   "source": [
    "import numpy as np\n",
    "import matplotlib.pyplot as plt\n",
    "import seaborn as sns\n",
    "import cv2\n",
    "import tensorflow as tf\n",
    "from tensorflow import keras\n",
    "from keras import datasets , layers , models"
   ]
  },
  {
   "cell_type": "code",
   "execution_count": 2,
   "metadata": {
    "colab": {
     "base_uri": "https://localhost:8080/"
    },
    "id": "yFBFin09YRLK",
    "outputId": "0980b248-f5b9-4b3e-acb6-8bee20631c0a"
   },
   "outputs": [
    {
     "name": "stdout",
     "output_type": "stream",
     "text": [
      "Downloading data from https://www.cs.toronto.edu/~kriz/cifar-10-python.tar.gz\n",
      "170498071/170498071 [==============================] - 7s 0us/step\n"
     ]
    }
   ],
   "source": [
    "(x_train , y_train) , (x_test , y_test) =  datasets.cifar10.load_data()\n"
   ]
  },
  {
   "cell_type": "code",
   "execution_count": 3,
   "metadata": {
    "colab": {
     "base_uri": "https://localhost:8080/"
    },
    "id": "D5pSmiKLYWvQ",
    "outputId": "d39538fe-8e37-4bf6-b842-01dbd3299b60"
   },
   "outputs": [
    {
     "data": {
      "text/plain": [
       "(50000, 32, 32, 3)"
      ]
     },
     "execution_count": 3,
     "metadata": {},
     "output_type": "execute_result"
    }
   ],
   "source": [
    "x_train.shape"
   ]
  },
  {
   "cell_type": "code",
   "execution_count": 4,
   "metadata": {
    "colab": {
     "base_uri": "https://localhost:8080/"
    },
    "id": "679KIcSUYZSc",
    "outputId": "10ead2f0-dc2d-4a30-a187-4becdedf0871"
   },
   "outputs": [
    {
     "name": "stdout",
     "output_type": "stream",
     "text": [
      "(50000, 32, 32, 3) (50000, 1) (10000, 32, 32, 3) (10000, 1)\n"
     ]
    }
   ],
   "source": [
    "print(x_train.shape , y_train.shape , x_test.shape , y_test.shape)"
   ]
  },
  {
   "cell_type": "code",
   "execution_count": 5,
   "metadata": {
    "colab": {
     "base_uri": "https://localhost:8080/"
    },
    "id": "iHhnC6PHYb5C",
    "outputId": "3071756a-c8e3-4436-ca1c-84b581e45952"
   },
   "outputs": [
    {
     "data": {
      "text/plain": [
       "array([6, 9, 9, ..., 9, 1, 1], dtype=uint8)"
      ]
     },
     "execution_count": 5,
     "metadata": {},
     "output_type": "execute_result"
    }
   ],
   "source": [
    "y_train = y_train.reshape(-1 , ) # flattens the y train array\n",
    "y_train"
   ]
  },
  {
   "cell_type": "code",
   "execution_count": 6,
   "metadata": {
    "id": "4U_VFI4EYfIh"
   },
   "outputs": [],
   "source": [
    "# Classes for the dataset 10 classes\n",
    "classes = ['airplane' , 'automobile' , 'bird' , 'cat', 'dog' , 'deer' , 'frog' , 'horse' , 'ship' , 'truck']"
   ]
  },
  {
   "cell_type": "code",
   "execution_count": 7,
   "metadata": {
    "id": "xSce822jYsF0"
   },
   "outputs": [],
   "source": [
    "def plot_sample(x , y , index):\n",
    "    plt.figure(figsize = (15 , 2))\n",
    "    plt.imshow(x[index])\n",
    "    plt.xlabel(classes[y[index]])"
   ]
  },
  {
   "cell_type": "code",
   "execution_count": 8,
   "metadata": {
    "colab": {
     "base_uri": "https://localhost:8080/",
     "height": 237
    },
    "id": "uo0H9KCsYube",
    "outputId": "44e01c4a-965e-45d3-9a5b-2d298bf7a653"
   },
   "outputs": [
    {
     "data": {
      "image/png": "[encoded data removed]",
      "text/plain": [
       "<Figure size 1500x200 with 1 Axes>"
      ]
     },
     "metadata": {},
     "output_type": "display_data"
    }
   ],
   "source": [
    "plot_sample(x_train , y_train ,1 )"
   ]
  },
  {
   "cell_type": "code",
   "execution_count": 9,
   "metadata": {
    "colab": {
     "base_uri": "https://localhost:8080/"
    },
    "id": "sqz32vEsYxcZ",
    "outputId": "0fcf5977-8f42-42ee-da65-ff924f9f6615"
   },
   "outputs": [
    {
     "name": "stdout",
     "output_type": "stream",
     "text": [
      "[[[ 59  62  63]\n",
      "  [ 43  46  45]\n",
      "  [ 50  48  43]\n",
      "  ...\n",
      "  [158 132 108]\n",
      "  [152 125 102]\n",
      "  [148 124 103]]\n",
      "\n",
      " [[ 16  20  20]\n",
      "  [  0   0   0]\n",
      "  [ 18   8   0]\n",
      "  ...\n",
      "  [123  88  55]\n",
      "  [119  83  50]\n",
      "  [122  87  57]]\n",
      "\n",
      " [[ 25  24  21]\n",
      "  [ 16   7   0]\n",
      "  [ 49  27   8]\n",
      "  ...\n",
      "  [118  84  50]\n",
      "  [120  84  50]\n",
      "  [109  73  42]]\n",
      "\n",
      " ...\n",
      "\n",
      " [[208 170  96]\n",
      "  [201 153  34]\n",
      "  [198 161  26]\n",
      "  ...\n",
      "  [160 133  70]\n",
      "  [ 56  31   7]\n",
      "  [ 53  34  20]]\n",
      "\n",
      " [[180 139  96]\n",
      "  [173 123  42]\n",
      "  [186 144  30]\n",
      "  ...\n",
      "  [184 148  94]\n",
      "  [ 97  62  34]\n",
      "  [ 83  53  34]]\n",
      "\n",
      " [[177 144 116]\n",
      "  [168 129  94]\n",
      "  [179 142  87]\n",
      "  ...\n",
      "  [216 184 140]\n",
      "  [151 118  84]\n",
      "  [123  92  72]]]\n"
     ]
    }
   ],
   "source": [
    "print(x_train[0])"
   ]
  },
  {
   "cell_type": "code",
   "execution_count": 10,
   "metadata": {
    "id": "Ue6Op0jBYz9w"
   },
   "outputs": [],
   "source": [
    "#normalize the values 255: scaling values in range of 0,1\n",
    "x_train = x_train / 255\n",
    "x_test = x_test / 255"
   ]
  },
  {
   "cell_type": "code",
   "execution_count": 11,
   "metadata": {
    "colab": {
     "base_uri": "https://localhost:8080/"
    },
    "id": "jZrpKnfsY2pQ",
    "outputId": "96dbc3b4-0a0a-413a-81f8-57c51959cda4"
   },
   "outputs": [
    {
     "name": "stdout",
     "output_type": "stream",
     "text": [
      "[[[0.23137255 0.24313725 0.24705882]\n",
      "  [0.16862745 0.18039216 0.17647059]\n",
      "  [0.19607843 0.18823529 0.16862745]\n",
      "  ...\n",
      "  [0.61960784 0.51764706 0.42352941]\n",
      "  [0.59607843 0.49019608 0.4       ]\n",
      "  [0.58039216 0.48627451 0.40392157]]\n",
      "\n",
      " [[0.0627451  0.07843137 0.07843137]\n",
      "  [0.         0.         0.        ]\n",
      "  [0.07058824 0.03137255 0.        ]\n",
      "  ...\n",
      "  [0.48235294 0.34509804 0.21568627]\n",
      "  [0.46666667 0.3254902  0.19607843]\n",
      "  [0.47843137 0.34117647 0.22352941]]\n",
      "\n",
      " [[0.09803922 0.09411765 0.08235294]\n",
      "  [0.0627451  0.02745098 0.        ]\n",
      "  [0.19215686 0.10588235 0.03137255]\n",
      "  ...\n",
      "  [0.4627451  0.32941176 0.19607843]\n",
      "  [0.47058824 0.32941176 0.19607843]\n",
      "  [0.42745098 0.28627451 0.16470588]]\n",
      "\n",
      " ...\n",
      "\n",
      " [[0.81568627 0.66666667 0.37647059]\n",
      "  [0.78823529 0.6        0.13333333]\n",
      "  [0.77647059 0.63137255 0.10196078]\n",
      "  ...\n",
      "  [0.62745098 0.52156863 0.2745098 ]\n",
      "  [0.21960784 0.12156863 0.02745098]\n",
      "  [0.20784314 0.13333333 0.07843137]]\n",
      "\n",
      " [[0.70588235 0.54509804 0.37647059]\n",
      "  [0.67843137 0.48235294 0.16470588]\n",
      "  [0.72941176 0.56470588 0.11764706]\n",
      "  ...\n",
      "  [0.72156863 0.58039216 0.36862745]\n",
      "  [0.38039216 0.24313725 0.13333333]\n",
      "  [0.3254902  0.20784314 0.13333333]]\n",
      "\n",
      " [[0.69411765 0.56470588 0.45490196]\n",
      "  [0.65882353 0.50588235 0.36862745]\n",
      "  [0.70196078 0.55686275 0.34117647]\n",
      "  ...\n",
      "  [0.84705882 0.72156863 0.54901961]\n",
      "  [0.59215686 0.4627451  0.32941176]\n",
      "  [0.48235294 0.36078431 0.28235294]]]\n"
     ]
    }
   ],
   "source": [
    "print(x_train[0])"
   ]
  },
  {
   "cell_type": "code",
   "execution_count": 12,
   "metadata": {
    "id": "gpPJnVfPY6YL"
   },
   "outputs": [],
   "source": [
    "# CNN Model building\n",
    "cnn = models.Sequential([\n",
    "    layers.Conv2D(filters = 64 , kernel_size = (3,3), activation = 'relu', input_shape = (32, 32, 3)),\n",
    "    layers.MaxPooling2D(2,2),\n",
    "\n",
    "    layers.Conv2D(filters = 32 , kernel_size = (3,3), activation = 'relu'),\n",
    "    layers.MaxPooling2D(2,2),\n",
    "\n",
    "    layers.Flatten(),\n",
    "    layers.Dense(64, activation = 'relu'),\n",
    "    layers.Dense(10, activation = 'softmax')\n",
    "])"
   ]
  },
  {
   "cell_type": "code",
   "execution_count": 13,
   "metadata": {
    "id": "8OWlDTE_Y93X"
   },
   "outputs": [],
   "source": [
    "cnn.compile(optimizer = 'adam',\n",
    "           loss = 'sparse_categorical_crossentropy',\n",
    "           metrics = ['accuracy'])"
   ]
  },
  {
   "cell_type": "code",
   "execution_count": 14,
   "metadata": {
    "colab": {
     "base_uri": "https://localhost:8080/"
    },
    "id": "vqGT41jAZBJF",
    "outputId": "66404233-2687-43a5-eefa-4f895382e9d2"
   },
   "outputs": [
    {
     "name": "stdout",
     "output_type": "stream",
     "text": [
      "Epoch 1/7\n",
      "1563/1563 [==============================] - 130s 82ms/step - loss: 1.5045 - accuracy: 0.4583\n",
      "Epoch 2/7\n",
      "1563/1563 [==============================] - 94s 60ms/step - loss: 1.1964 - accuracy: 0.5780\n",
      "Epoch 3/7\n",
      "1563/1563 [==============================] - 93s 60ms/step - loss: 1.0765 - accuracy: 0.6226\n",
      "Epoch 4/7\n",
      "1563/1563 [==============================] - 93s 59ms/step - loss: 0.9935 - accuracy: 0.6525\n",
      "Epoch 5/7\n",
      "1563/1563 [==============================] - 92s 59ms/step - loss: 0.9354 - accuracy: 0.6720\n",
      "Epoch 6/7\n",
      "1563/1563 [==============================] - 92s 59ms/step - loss: 0.8849 - accuracy: 0.6899\n",
      "Epoch 7/7\n",
      "1563/1563 [==============================] - 94s 60ms/step - loss: 0.8459 - accuracy: 0.7040\n"
     ]
    }
   ],
   "source": [
    "history=cnn.fit(x_train, y_train, epochs =7 )"
   ]
  },
  {
   "cell_type": "code",
   "execution_count": 15,
   "metadata": {
    "colab": {
     "base_uri": "https://localhost:8080/"
    },
    "id": "RcMcvKnCZDel",
    "outputId": "71897943-c223-4180-956f-9161f798c593"
   },
   "outputs": [
    {
     "name": "stdout",
     "output_type": "stream",
     "text": [
      "313/313 [==============================] - 6s 17ms/step - loss: 0.9471 - accuracy: 0.6742\n"
     ]
    },
    {
     "data": {
      "text/plain": [
       "[0.9470748901367188, 0.6741999983787537]"
      ]
     },
     "execution_count": 15,
     "metadata": {},
     "output_type": "execute_result"
    }
   ],
   "source": [
    "cnn.evaluate(x_test, y_test)"
   ]
  },
  {
   "cell_type": "code",
   "execution_count": 16,
   "metadata": {
    "id": "SLlu5niJZGC3"
   },
   "outputs": [],
   "source": [
    "y_test = y_test.reshape(-1 , )"
   ]
  },
  {
   "cell_type": "code",
   "execution_count": 17,
   "metadata": {
    "colab": {
     "base_uri": "https://localhost:8080/",
     "height": 237
    },
    "id": "9aXdrfkBZIrW",
    "outputId": "d85cfdbb-f243-4cb2-f90a-ac7a5e82c9ff"
   },
   "outputs": [
    {
     "data": {
      "image/png": "[encoded data removed]",
      "text/plain": [
       "<Figure size 1500x200 with 1 Axes>"
      ]
     },
     "metadata": {},
     "output_type": "display_data"
    }
   ],
   "source": [
    "plot_sample(x_test , y_test , 4)"
   ]
  },
  {
   "cell_type": "code",
   "execution_count": 18,
   "metadata": {
    "colab": {
     "base_uri": "https://localhost:8080/"
    },
    "id": "crgVYYUKZKb7",
    "outputId": "5701d41d-1963-49c3-d478-79eb15e2debb"
   },
   "outputs": [
    {
     "name": "stdout",
     "output_type": "stream",
     "text": [
      "313/313 [==============================] - 4s 14ms/step\n"
     ]
    },
    {
     "data": {
      "text/plain": [
       "array([[2.04151813e-02, 2.42952979e-03, 3.58141698e-02, 3.40065688e-01,\n",
       "        9.83461924e-03, 1.92504480e-01, 1.00913532e-02, 8.67881405e-04,\n",
       "        3.82571727e-01, 5.40529471e-03],\n",
       "       [3.31699010e-03, 3.55524779e-03, 3.96665882e-06, 4.77240633e-07,\n",
       "        1.63436448e-06, 1.92576479e-08, 1.11902935e-07, 1.71730843e-08,\n",
       "        9.93070245e-01, 5.12741353e-05],\n",
       "       [3.55460644e-02, 1.30009592e-01, 7.09384447e-04, 1.74084702e-03,\n",
       "        7.14155671e-04, 5.16843458e-04, 3.67903616e-04, 4.37560782e-04,\n",
       "        8.11052799e-01, 1.89048406e-02],\n",
       "       [5.08584738e-01, 1.49513800e-02, 6.95886835e-03, 4.87567770e-04,\n",
       "        2.09079753e-03, 1.87936021e-05, 1.06806436e-03, 7.28278465e-05,\n",
       "        4.58614588e-01, 7.15229008e-03]], dtype=float32)"
      ]
     },
     "execution_count": 18,
     "metadata": {},
     "output_type": "execute_result"
    }
   ],
   "source": [
    "y_pred = cnn.predict(x_test)\n",
    "y_pred[:4]"
   ]
  },
  {
   "cell_type": "code",
   "execution_count": 19,
   "metadata": {
    "colab": {
     "base_uri": "https://localhost:8080/"
    },
    "id": "d4ohKlQ9ZNXT",
    "outputId": "74e2c310-e401-4080-f8a5-ebd7d338fac2"
   },
   "outputs": [
    {
     "data": {
      "text/plain": [
       "[8, 8, 8, 0]"
      ]
     },
     "execution_count": 19,
     "metadata": {},
     "output_type": "execute_result"
    }
   ],
   "source": [
    "y_classes = [np.argmax(element) for element in y_pred]\n",
    "y_classes[:4]"
   ]
  },
  {
   "cell_type": "code",
   "execution_count": 20,
   "metadata": {
    "colab": {
     "base_uri": "https://localhost:8080/"
    },
    "id": "wwTMQP2GZPvJ",
    "outputId": "a3f7da87-1e59-4cbc-b6ea-f1c7c6d5cc4b"
   },
   "outputs": [
    {
     "data": {
      "text/plain": [
       "array([3, 8, 8, 0], dtype=uint8)"
      ]
     },
     "execution_count": 20,
     "metadata": {},
     "output_type": "execute_result"
    }
   ],
   "source": [
    "y_test[:4]"
   ]
  },
  {
   "cell_type": "code",
   "execution_count": 21,
   "metadata": {
    "colab": {
     "base_uri": "https://localhost:8080/",
     "height": 237
    },
    "id": "31ohFPEpZRoR",
    "outputId": "b718e854-daf6-4f74-e72f-e87dd3e96bc1"
   },
   "outputs": [
    {
     "data": {
      "image/png": "[encoded data removed]",
      "text/plain": [
       "<Figure size 1500x200 with 1 Axes>"
      ]
     },
     "metadata": {},
     "output_type": "display_data"
    }
   ],
   "source": [
    "plot_sample(x_test , y_test , 4)"
   ]
  },
  {
   "cell_type": "code",
   "execution_count": 22,
   "metadata": {
    "colab": {
     "base_uri": "https://localhost:8080/",
     "height": 35
    },
    "id": "BGDM3AXvZTaH",
    "outputId": "d4109831-d12b-446e-e3bb-f2d78ef2a53e"
   },
   "outputs": [
    {
     "data": {
      "application/vnd.google.colaboratory.intrinsic+json": {
       "type": "string"
      },
      "text/plain": [
       "'dog'"
      ]
     },
     "execution_count": 22,
     "metadata": {},
     "output_type": "execute_result"
    }
   ],
   "source": [
    "classes[y_classes[4]]"
   ]
  },
  {
   "cell_type": "code",
   "execution_count": 23,
   "metadata": {
    "colab": {
     "base_uri": "https://localhost:8080/"
    },
    "id": "bMhoGvQJZViY",
    "outputId": "41a5564a-8ab7-4128-ff88-f02aa042104d"
   },
   "outputs": [
    {
     "name": "stdout",
     "output_type": "stream",
     "text": [
      "313/313 [==============================] - 5s 16ms/step\n"
     ]
    }
   ],
   "source": [
    "y_pred = cnn.predict(x_test)"
   ]
  },
  {
   "cell_type": "code",
   "execution_count": 24,
   "metadata": {
    "colab": {
     "base_uri": "https://localhost:8080/"
    },
    "id": "6-vSMYiQZXDl",
    "outputId": "95aaf1d9-f33a-42e8-e2da-da4659d5bac0"
   },
   "outputs": [
    {
     "data": {
      "text/plain": [
       "array([[2.0415181e-02, 2.4295298e-03, 3.5814170e-02, ..., 8.6788140e-04,\n",
       "        3.8257173e-01, 5.4052947e-03],\n",
       "       [3.3169901e-03, 3.5552478e-03, 3.9666588e-06, ..., 1.7173084e-08,\n",
       "        9.9307024e-01, 5.1274135e-05],\n",
       "       [3.5546064e-02, 1.3000959e-01, 7.0938445e-04, ..., 4.3756078e-04,\n",
       "        8.1105280e-01, 1.8904841e-02],\n",
       "       ...,\n",
       "       [8.6113380e-04, 4.6856931e-05, 1.1487586e-01, ..., 7.9897337e-02,\n",
       "        3.0776995e-04, 8.2510995e-04],\n",
       "       [5.3223830e-02, 1.5255333e-01, 1.4655990e-02, ..., 6.3152455e-02,\n",
       "        1.8459244e-03, 2.7306371e-03],\n",
       "       [5.9320934e-07, 3.5872901e-07, 8.8190754e-05, ..., 9.9623585e-01,\n",
       "        2.5635918e-08, 4.1857751e-07]], dtype=float32)"
      ]
     },
     "execution_count": 24,
     "metadata": {},
     "output_type": "execute_result"
    }
   ],
   "source": [
    "y_pred"
   ]
  },
  {
   "cell_type": "code",
   "execution_count": 25,
   "metadata": {
    "colab": {
     "base_uri": "https://localhost:8080/",
     "height": 472
    },
    "id": "f7yYoe-AZZKS",
    "outputId": "4cd8ce00-a63d-41f7-c5b5-71cb7ae0fdd3"
   },
   "outputs": [
    {
     "data": {
      "image/png": "[encoded data removed]",
      "text/plain": [
       "<Figure size 640x480 with 1 Axes>"
      ]
     },
     "metadata": {},
     "output_type": "display_data"
    }
   ],
   "source": [
    "import matplotlib.pyplot as plt\n",
    "\n",
    "# Extracting loss and accuracy from history object\n",
    "loss = history.history['loss']\n",
    "accuracy = history.history['accuracy']\n",
    "epochs = range(1, len(loss) + 1)\n",
    "\n",
    "# Plotting loss and accuracy on the same plot\n",
    "plt.plot(epochs, loss, label='Training Loss', color='red')\n",
    "plt.plot(epochs, accuracy, label='Training Accuracy', color='blue')\n",
    "\n",
    "plt.title('Training Loss and Accuracy Over Epochs')\n",
    "plt.xlabel('Epochs')\n",
    "plt.ylabel('Loss / Accuracy')\n",
    "plt.legend()\n",
    "plt.show()"
   ]
  },
  {
   "cell_type": "code",
   "execution_count": 26,
   "metadata": {
    "colab": {
     "base_uri": "https://localhost:8080/",
     "height": 472
    },
    "id": "1kdfRGYGZeA0",
    "outputId": "a155784c-e64c-42d4-b542-b914d3119e3b"
   },
   "outputs": [
    {
     "data": {
      "image/png": "[encoded data removed]",
      "text/plain": [
       "<Figure size 640x480 with 1 Axes>"
      ]
     },
     "metadata": {},
     "output_type": "display_data"
    }
   ],
   "source": [
    "import matplotlib.pyplot as plt\n",
    "\n",
    "# Extracting loss and accuracy from history object\n",
    "loss = history.history['loss']\n",
    "accuracy = history.history['accuracy']\n",
    "epochs = range(1, len(loss) + 1)\n",
    "\n",
    "# Applying exponential smoothing with a factor of 0.8\n",
    "smoothed_loss = [loss[0]]\n",
    "smoothed_accuracy = [accuracy[0]]\n",
    "for i in range(1, len(loss)):\n",
    "    smoothed_loss.append(0.8 * smoothed_loss[-1] + 0.2 * loss[i])\n",
    "    smoothed_accuracy.append(0.8 * smoothed_accuracy[-1] + 0.2 * accuracy[i])\n",
    "\n",
    "# Plotting smoothed loss and accuracy on the same plot\n",
    "plt.plot(epochs, smoothed_loss, label='Smoothed Training Loss', color='red')\n",
    "plt.plot(epochs, smoothed_accuracy, label='Smoothed Training Accuracy', color='blue')\n",
    "\n",
    "plt.title('Smoothed Training Loss and Accuracy Over Epochs')\n",
    "plt.xlabel('Epochs')\n",
    "plt.ylabel('Loss / Accuracy')\n",
    "plt.legend()\n",
    "plt.show()\n"
   ]
  },
  {
   "cell_type": "code",
   "execution_count": null,
   "metadata": {
    "id": "lHTmCu9VZbhR"
   },
   "outputs": [],
   "source": []
  }
 ],
 "metadata": {
  "colab": {
   "provenance": []
  },
  "kernelspec": {
   "display_name": "Python 3 (ipykernel)",
   "language": "python",
   "name": "python3"
  },
  "language_info": {
   "codemirror_mode": {
    "name": "ipython",
    "version": 3
   },
   "file_extension": ".py",
   "mimetype": "text/x-python",
   "name": "python",
   "nbconvert_exporter": "python",
   "pygments_lexer": "ipython3",
   "version": "3.9.13"
  }
 },
 "nbformat": 4,
 "nbformat_minor": 1
}
